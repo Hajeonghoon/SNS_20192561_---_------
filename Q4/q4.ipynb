{
 "cells": [
  {
   "cell_type": "code",
   "execution_count": 13,
   "metadata": {},
   "outputs": [],
   "source": [
    "from bs4 import BeautifulSoup     \n",
    "from selenium import webdriver\n",
    "from selenium.webdriver.common.keys import Keys\n",
    "from selenium.webdriver.common.by import By\n",
    "import time\n",
    "import sys\n",
    "import requests\n",
    "import re"
   ]
  },
  {
   "cell_type": "code",
   "execution_count": 14,
   "metadata": {},
   "outputs": [],
   "source": [
    "query_txt=input('크롤링할 키워드는 무엇입니까?: ')\n",
    "count=int(input('크롤링 할 건수는 몇건입니까?: '))\n",
    "f_name = input('파일로 저장할 폴더 이름을 쓰세요(예:c:\\data\\): ')\n",
    "\n",
    "pdfList=[]\n",
    "pdfTitle=[]"
   ]
  },
  {
   "cell_type": "code",
   "execution_count": 15,
   "metadata": {},
   "outputs": [
    {
     "name": "stderr",
     "output_type": "stream",
     "text": [
      "C:\\Users\\lego8\\AppData\\Local\\Temp\\ipykernel_46564\\2098647066.py:2: DeprecationWarning: executable_path has been deprecated, please pass in a Service object\n",
      "  driver = webdriver.Chrome(path)\n"
     ]
    }
   ],
   "source": [
    "path = '/opt/homebrew/Caskroom/chromedriver/112.0.5615.49/chromedriver'\n",
    "driver = webdriver.Chrome(path)\n",
    "driver.get(\"https://www.google.com/?authuser=0\")\n",
    "time.sleep(1)"
   ]
  },
  {
   "cell_type": "code",
   "execution_count": 16,
   "metadata": {},
   "outputs": [],
   "source": [
    "element=driver.find_element(By.NAME, 'q').click()\n",
    "driver.find_element(By.NAME, 'q').send_keys('filetype:pdf '+query_txt)\n",
    "time.sleep(1)\n",
    "\n",
    "element=driver.find_element(By.XPATH, '/html/body/div[1]/div[3]/form/div[1]/div[1]/div[4]/center/input[1]').click()\n",
    "time.sleep(1)"
   ]
  },
  {
   "cell_type": "code",
   "execution_count": 17,
   "metadata": {},
   "outputs": [],
   "source": [
    "html = driver.page_source\n",
    "soup = BeautifulSoup(html, 'html.parser')\n",
    "content_list = soup.find_all(class_='MjjYud')\n",
    "\n",
    "for i in range(1,len(content_list)):\n",
    "    const_str=str(content_list[i])\n",
    "    pattern=r'(?i)\\bhttps?://\\S+\\.pdf\\b'\n",
    "\n",
    "    if(re.search(pattern, const_str) == None):\n",
    "        continue\n",
    "    else:\n",
    "        href_value = re.search(pattern, const_str).group().strip('\"')\n",
    "        pdfList.append(href_value)\n",
    "        pdfTitle.append(content_list[i].find(class_='LC20lb MBeuO DKV0Md').get_text())"
   ]
  },
  {
   "cell_type": "code",
   "execution_count": 18,
   "metadata": {},
   "outputs": [
    {
     "ename": "IndexError",
     "evalue": "list index out of range",
     "output_type": "error",
     "traceback": [
      "\u001b[1;31m---------------------------------------------------------------------------\u001b[0m",
      "\u001b[1;31mIndexError\u001b[0m                                Traceback (most recent call last)",
      "Cell \u001b[1;32mIn[18], line 2\u001b[0m\n\u001b[0;32m      1\u001b[0m \u001b[39mfor\u001b[39;00m i \u001b[39min\u001b[39;00m \u001b[39mrange\u001b[39m(count):\n\u001b[1;32m----> 2\u001b[0m     url \u001b[39m=\u001b[39m \u001b[39mstr\u001b[39m(pdfList[i])\n\u001b[0;32m      4\u001b[0m     \u001b[39mtry\u001b[39;00m:\n\u001b[0;32m      5\u001b[0m         response\u001b[39m=\u001b[39mrequests\u001b[39m.\u001b[39mget(url)\n",
      "\u001b[1;31mIndexError\u001b[0m: list index out of range"
     ]
    }
   ],
   "source": [
    "for i in range(count):\n",
    "    url = str(pdfList[i])\n",
    "    \n",
    "    try:\n",
    "        response=requests.get(url)\n",
    "        \n",
    "        with open(f_name+pdfTitle[i]+'.pdf', \"wb\") as file:\n",
    "            file.write(response.content)\n",
    "    except:\n",
    "        print(\"download failed. link:{}\".format(url))"
   ]
  }
 ],
 "metadata": {
  "kernelspec": {
   "display_name": "snsbig",
   "language": "python",
   "name": "python3"
  },
  "language_info": {
   "codemirror_mode": {
    "name": "ipython",
    "version": 3
   },
   "file_extension": ".py",
   "mimetype": "text/x-python",
   "name": "python",
   "nbconvert_exporter": "python",
   "pygments_lexer": "ipython3",
   "version": "3.11.1"
  },
  "orig_nbformat": 4
 },
 "nbformat": 4,
 "nbformat_minor": 2
}
